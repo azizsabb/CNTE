{
  "cells": [
    {
      "cell_type": "markdown",
      "metadata": {
        "id": "view-in-github",
        "colab_type": "text"
      },
      "source": [
        "<a href=\"https://colab.research.google.com/github/tezeghdentio/CNTE/blob/main/chatbot.ipynb\" target=\"_parent\"><img src=\"https://colab.research.google.com/assets/colab-badge.svg\" alt=\"Open In Colab\"/></a>"
      ]
    },
    {
      "cell_type": "code",
      "execution_count": null,
      "metadata": {
        "colab": {
          "background_save": true,
          "base_uri": "https://localhost:8080/"
        },
        "id": "FWs6q96TYauI",
        "outputId": "bac79758-d0d1-4b7c-e133-a7c479c4b5c7"
      },
      "outputs": [
        {
          "name": "stdout",
          "output_type": "stream",
          "text": [
            "🎮 Welcome to GameBot! Ask me anything about games.\n",
            "💬 Type 'exit' to leave the chat.\n",
            "\n",
            "GameBot: 🤔 Hmm... I’m still learning. Try asking about a game or gaming console!\n",
            "GameBot: 🤔 Hmm... I’m still learning. Try asking about a game or gaming console!\n"
          ]
        }
      ],
      "source": [
        "import random\n",
        "\n",
        "print(\"🎮 Welcome to GameBot! Ask me anything about games.\")\n",
        "print(\"💬 Type 'exit' to leave the chat.\\n\")\n",
        "\n",
        "while True:\n",
        "    user_input = input(\"You: \").lower()\n",
        "\n",
        "    if user_input == \"exit\":\n",
        "        print(\"GameBot: 🎮 Bye! Have fun gaming!\")\n",
        "        break\n",
        "\n",
        "    elif \"good game\" in user_input or \"recommend\" in user_input:\n",
        "        games = [\"Minecraft\", \"Fortnite\", \"Roblox\", \"God of War\", \"Valorant\", \"Elden Ring\"]\n",
        "        print(\"GameBot: You should try playing\", random.choice(games) + \"!\")\n",
        "\n",
        "    elif \"what is fortnite\" in user_input:\n",
        "        print(\"GameBot: Fortnite is a battle royale game developed by Epic Games. It’s fast, fun, and competitive!\")\n",
        "\n",
        "    elif \"roblox\" in user_input:\n",
        "        print(\"GameBot: Roblox is a platform where users can create and play games made by other users.\")\n",
        "\n",
        "    elif \"gta\" in user_input or \"grand theft auto\" in user_input:\n",
        "        print(\"GameBot: GTA is an open-world action-adventure game series developed by Rockstar Games.\")\n",
        "\n",
        "    elif \"best shooter\" in user_input:\n",
        "        print(\"GameBot: You can try Call of Duty, Valorant, or Apex Legends — top shooters!\")\n",
        "\n",
        "    elif \"playstation\" in user_input:\n",
        "        print(\"GameBot: PlayStation is a gaming console by Sony. PS5 is their latest model!\")\n",
        "\n",
        "    else:\n",
        "        print(\"GameBot: 🤔 Hmm... I’m still learning. Try asking about a game or gaming console!\")\n"
      ]
    }
  ],
  "metadata": {
    "colab": {
      "provenance": [],
      "include_colab_link": true
    },
    "kernelspec": {
      "display_name": "Python 3",
      "name": "python3"
    },
    "language_info": {
      "name": "python"
    }
  },
  "nbformat": 4,
  "nbformat_minor": 0
}